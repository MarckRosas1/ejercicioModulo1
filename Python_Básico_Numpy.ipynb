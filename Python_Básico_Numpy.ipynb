{
  "cells": [
    {
      "cell_type": "markdown",
      "metadata": {
        "id": "view-in-github",
        "colab_type": "text"
      },
      "source": [
        "<a href=\"https://colab.research.google.com/github/MarckRosas1/ejercicioModulo1/blob/master/Python_B%C3%A1sico_Numpy.ipynb\" target=\"_parent\"><img src=\"https://colab.research.google.com/assets/colab-badge.svg\" alt=\"Open In Colab\"/></a>"
      ]
    },
    {
      "cell_type": "markdown",
      "source": [
        "## **1: Arreglos**"
      ],
      "metadata": {
        "id": "FojwFqDksn3b"
      }
    },
    {
      "cell_type": "markdown",
      "source": [
        "### Importación de la librería"
      ],
      "metadata": {
        "id": "Gm3xxPlhyHEn"
      }
    },
    {
      "cell_type": "code",
      "execution_count": 1,
      "metadata": {
        "id": "ZmYeXmxrOTKC"
      },
      "outputs": [],
      "source": [
        "import numpy as np"
      ]
    },
    {
      "cell_type": "markdown",
      "source": [
        "### Creación de arreglo con función array"
      ],
      "metadata": {
        "id": "lrRTnO54syup"
      }
    },
    {
      "cell_type": "code",
      "execution_count": 2,
      "metadata": {
        "colab": {
          "base_uri": "https://localhost:8080/"
        },
        "id": "3CpiO-pqOsgJ",
        "outputId": "021f0630-76e6-43c5-d212-efb2c49fd5a4"
      },
      "outputs": [
        {
          "output_type": "execute_result",
          "data": {
            "text/plain": [
              "array([1, 2, 3, 4, 5])"
            ]
          },
          "metadata": {},
          "execution_count": 2
        }
      ],
      "source": [
        "np.array([1,2,3,4,5])"
      ]
    },
    {
      "cell_type": "code",
      "execution_count": 3,
      "metadata": {
        "id": "y4pt2YwhO5X3"
      },
      "outputs": [],
      "source": [
        "a=np.array([1,2,3,4,5])"
      ]
    },
    {
      "cell_type": "code",
      "execution_count": 4,
      "metadata": {
        "colab": {
          "base_uri": "https://localhost:8080/"
        },
        "id": "3b1GmkNZPDn0",
        "outputId": "d049cc31-9e85-4017-d85c-abf9868b0268"
      },
      "outputs": [
        {
          "output_type": "execute_result",
          "data": {
            "text/plain": [
              "array([1, 2, 3, 4, 5])"
            ]
          },
          "metadata": {},
          "execution_count": 4
        }
      ],
      "source": [
        "a"
      ]
    },
    {
      "cell_type": "code",
      "execution_count": 5,
      "metadata": {
        "colab": {
          "base_uri": "https://localhost:8080/"
        },
        "id": "Q2QmI3sLPF13",
        "outputId": "e49903cc-05af-436f-d5c2-01d3a0e2630f"
      },
      "outputs": [
        {
          "output_type": "execute_result",
          "data": {
            "text/plain": [
              "numpy.ndarray"
            ]
          },
          "metadata": {},
          "execution_count": 5
        }
      ],
      "source": [
        "type(a)"
      ]
    },
    {
      "cell_type": "markdown",
      "source": [
        "### Cantidad de datos almacenados en el array\n",
        "\n"
      ],
      "metadata": {
        "id": "b3keB4h1w_ou"
      }
    },
    {
      "cell_type": "code",
      "execution_count": 6,
      "metadata": {
        "colab": {
          "base_uri": "https://localhost:8080/"
        },
        "id": "KCDyPKiaPNtr",
        "outputId": "36810282-8e8b-4dc2-c143-e28701f9858c"
      },
      "outputs": [
        {
          "output_type": "execute_result",
          "data": {
            "text/plain": [
              "5"
            ]
          },
          "metadata": {},
          "execution_count": 6
        }
      ],
      "source": [
        "a.size"
      ]
    },
    {
      "cell_type": "markdown",
      "source": [
        "### Cantidad de dimensiones del array\n",
        "\n",
        "\n"
      ],
      "metadata": {
        "id": "UHa4qNuPxWeZ"
      }
    },
    {
      "cell_type": "code",
      "execution_count": 7,
      "metadata": {
        "colab": {
          "base_uri": "https://localhost:8080/"
        },
        "id": "u_b5GJjDPYG3",
        "outputId": "44ac81f6-0b2c-4603-aff0-07e40252b5ea"
      },
      "outputs": [
        {
          "output_type": "execute_result",
          "data": {
            "text/plain": [
              "1"
            ]
          },
          "metadata": {},
          "execution_count": 7
        }
      ],
      "source": [
        "a.ndim"
      ]
    },
    {
      "cell_type": "markdown",
      "source": [
        "### Tipo de datos contenidos en el array"
      ],
      "metadata": {
        "id": "EBbhhat6xztM"
      }
    },
    {
      "cell_type": "code",
      "execution_count": 8,
      "metadata": {
        "colab": {
          "base_uri": "https://localhost:8080/"
        },
        "id": "AoQ0xx0bPcYB",
        "outputId": "5e9e4198-578b-4ba0-c6c4-38e1df255435"
      },
      "outputs": [
        {
          "output_type": "execute_result",
          "data": {
            "text/plain": [
              "dtype('int64')"
            ]
          },
          "metadata": {},
          "execution_count": 8
        }
      ],
      "source": [
        "a.dtype"
      ]
    },
    {
      "cell_type": "markdown",
      "source": [
        "### Dimensiones del array"
      ],
      "metadata": {
        "id": "GVjHZCtlyAdx"
      }
    },
    {
      "cell_type": "code",
      "execution_count": 9,
      "metadata": {
        "colab": {
          "base_uri": "https://localhost:8080/"
        },
        "id": "U6aw-Z4PPe9o",
        "outputId": "ce7f464a-6a47-427c-a011-e8a5eba65294"
      },
      "outputs": [
        {
          "output_type": "execute_result",
          "data": {
            "text/plain": [
              "(5,)"
            ]
          },
          "metadata": {},
          "execution_count": 9
        }
      ],
      "source": [
        "a.shape"
      ]
    },
    {
      "cell_type": "markdown",
      "source": [
        "### Asignación de un arreglo a la variable a. La longitud del array es fija una vez que se define."
      ],
      "metadata": {
        "id": "CkMt7WHByydx"
      }
    },
    {
      "cell_type": "code",
      "source": [
        "a=np.array([1,2,3,4,5])"
      ],
      "metadata": {
        "id": "u7sh1ycPyoI5"
      },
      "execution_count": 10,
      "outputs": []
    },
    {
      "cell_type": "markdown",
      "source": [
        "## **2: Operaciones**"
      ],
      "metadata": {
        "id": "mZup4qdh_K5x"
      }
    },
    {
      "cell_type": "code",
      "source": [
        "a=np.array([1,2,3,4,5])"
      ],
      "metadata": {
        "id": "kIH5AuI8_bhh"
      },
      "execution_count": 11,
      "outputs": []
    },
    {
      "cell_type": "markdown",
      "source": [
        "### Suma"
      ],
      "metadata": {
        "id": "nzXVRNdj_gKa"
      }
    },
    {
      "cell_type": "code",
      "execution_count": 12,
      "metadata": {
        "colab": {
          "base_uri": "https://localhost:8080/"
        },
        "id": "cCY3x0nYQh0-",
        "outputId": "09bbd78c-019d-4464-d687-20c2615d22b0"
      },
      "outputs": [
        {
          "output_type": "execute_result",
          "data": {
            "text/plain": [
              "array([11, 12, 13, 14, 15])"
            ]
          },
          "metadata": {},
          "execution_count": 12
        }
      ],
      "source": [
        "a+10"
      ]
    },
    {
      "cell_type": "markdown",
      "source": [
        "### Resta"
      ],
      "metadata": {
        "id": "o2DHyNc2_h1J"
      }
    },
    {
      "cell_type": "code",
      "source": [
        "a-10"
      ],
      "metadata": {
        "colab": {
          "base_uri": "https://localhost:8080/"
        },
        "id": "9RULUC2hRAeN",
        "outputId": "5301f8e5-402d-4d0a-ccbd-d21f3c753227"
      },
      "execution_count": 13,
      "outputs": [
        {
          "output_type": "execute_result",
          "data": {
            "text/plain": [
              "array([-9, -8, -7, -6, -5])"
            ]
          },
          "metadata": {},
          "execution_count": 13
        }
      ]
    },
    {
      "cell_type": "markdown",
      "source": [
        "### Multiplicación"
      ],
      "metadata": {
        "id": "IjZOjQJC_jfH"
      }
    },
    {
      "cell_type": "code",
      "source": [
        "a*10\n"
      ],
      "metadata": {
        "colab": {
          "base_uri": "https://localhost:8080/"
        },
        "id": "2nmJsGJ1RDE-",
        "outputId": "80549441-52c8-412b-e0a7-bdafaeccc6ba"
      },
      "execution_count": 14,
      "outputs": [
        {
          "output_type": "execute_result",
          "data": {
            "text/plain": [
              "array([10, 20, 30, 40, 50])"
            ]
          },
          "metadata": {},
          "execution_count": 14
        }
      ]
    },
    {
      "cell_type": "markdown",
      "source": [
        "### División"
      ],
      "metadata": {
        "id": "ffNZJjGf_lvc"
      }
    },
    {
      "cell_type": "code",
      "source": [
        "a/10"
      ],
      "metadata": {
        "colab": {
          "base_uri": "https://localhost:8080/"
        },
        "id": "WyHNeULbRbb4",
        "outputId": "9ab164ff-3097-4def-9ed0-bf9cdba45663"
      },
      "execution_count": 15,
      "outputs": [
        {
          "output_type": "execute_result",
          "data": {
            "text/plain": [
              "array([0.1, 0.2, 0.3, 0.4, 0.5])"
            ]
          },
          "metadata": {},
          "execution_count": 15
        }
      ]
    },
    {
      "cell_type": "markdown",
      "source": [
        "### ***El array original no se modifica***\n",
        "\n",
        "\n",
        "\n"
      ],
      "metadata": {
        "id": "vg1opmF4_re1"
      }
    },
    {
      "cell_type": "code",
      "source": [
        "a"
      ],
      "metadata": {
        "colab": {
          "base_uri": "https://localhost:8080/"
        },
        "id": "yZQqrg89ReKK",
        "outputId": "dc41872b-9952-45b4-b068-3381257f2b49"
      },
      "execution_count": 16,
      "outputs": [
        {
          "output_type": "execute_result",
          "data": {
            "text/plain": [
              "array([1, 2, 3, 4, 5])"
            ]
          },
          "metadata": {},
          "execution_count": 16
        }
      ]
    },
    {
      "cell_type": "markdown",
      "source": [
        "### Operaciones con dos arrays"
      ],
      "metadata": {
        "id": "WRkE9wcDBHdx"
      }
    },
    {
      "cell_type": "code",
      "source": [
        "b=np.array([6,7,8,9,10])"
      ],
      "metadata": {
        "id": "wQcoU-DDRj3W"
      },
      "execution_count": 17,
      "outputs": []
    },
    {
      "cell_type": "markdown",
      "source": [
        "### Suma de dos arrays"
      ],
      "metadata": {
        "id": "p59Y-FxLBpvY"
      }
    },
    {
      "cell_type": "code",
      "source": [
        "a+b"
      ],
      "metadata": {
        "colab": {
          "base_uri": "https://localhost:8080/"
        },
        "id": "Vvgotf8CRsWj",
        "outputId": "e31add1f-4724-42e0-da85-ad1fcfa4ce46"
      },
      "execution_count": 18,
      "outputs": [
        {
          "output_type": "execute_result",
          "data": {
            "text/plain": [
              "array([ 7,  9, 11, 13, 15])"
            ]
          },
          "metadata": {},
          "execution_count": 18
        }
      ]
    },
    {
      "cell_type": "markdown",
      "source": [
        "### Multiplicación de dos arrays"
      ],
      "metadata": {
        "id": "v81zggjGBt80"
      }
    },
    {
      "cell_type": "code",
      "source": [
        "a*b"
      ],
      "metadata": {
        "colab": {
          "base_uri": "https://localhost:8080/"
        },
        "id": "EMDrprD6Rv4p",
        "outputId": "c2d34862-8b8a-4e08-8297-ae9852fbd3a6"
      },
      "execution_count": 19,
      "outputs": [
        {
          "output_type": "execute_result",
          "data": {
            "text/plain": [
              "array([ 6, 14, 24, 36, 50])"
            ]
          },
          "metadata": {},
          "execution_count": 19
        }
      ]
    },
    {
      "cell_type": "markdown",
      "source": [
        "### División de dos arrays"
      ],
      "metadata": {
        "id": "oc18KR5kByBR"
      }
    },
    {
      "cell_type": "code",
      "source": [
        "a/b"
      ],
      "metadata": {
        "colab": {
          "base_uri": "https://localhost:8080/"
        },
        "id": "_5eG60S3RzJc",
        "outputId": "918e8ee3-b5b4-4ddb-c483-a58e1d9fa00b"
      },
      "execution_count": 20,
      "outputs": [
        {
          "output_type": "execute_result",
          "data": {
            "text/plain": [
              "array([0.16666667, 0.28571429, 0.375     , 0.44444444, 0.5       ])"
            ]
          },
          "metadata": {},
          "execution_count": 20
        }
      ]
    },
    {
      "cell_type": "markdown",
      "source": [
        "### Resta de dos arrays"
      ],
      "metadata": {
        "id": "j2UKYRvjB1ZJ"
      }
    },
    {
      "cell_type": "code",
      "source": [
        "a-b"
      ],
      "metadata": {
        "colab": {
          "base_uri": "https://localhost:8080/"
        },
        "id": "QMaPBY5PR1HS",
        "outputId": "311326a2-5188-44d7-f8b2-4ffccef1515d"
      },
      "execution_count": 21,
      "outputs": [
        {
          "output_type": "execute_result",
          "data": {
            "text/plain": [
              "array([-5, -5, -5, -5, -5])"
            ]
          },
          "metadata": {},
          "execution_count": 21
        }
      ]
    },
    {
      "cell_type": "markdown",
      "source": [
        "### El array original almacenado en la variable a se sigue manteniendo"
      ],
      "metadata": {
        "id": "YB5mFfZXB9CL"
      }
    },
    {
      "cell_type": "code",
      "source": [
        "a"
      ],
      "metadata": {
        "colab": {
          "base_uri": "https://localhost:8080/"
        },
        "id": "zWzBEDEqTOnh",
        "outputId": "a60e8be2-5e2e-4d24-a796-9cfe497fc986"
      },
      "execution_count": 22,
      "outputs": [
        {
          "output_type": "execute_result",
          "data": {
            "text/plain": [
              "array([1, 2, 3, 4, 5])"
            ]
          },
          "metadata": {},
          "execution_count": 22
        }
      ]
    },
    {
      "cell_type": "markdown",
      "source": [
        "## 3: Tipos de datos"
      ],
      "metadata": {
        "id": "JVPvXpGcCM6G"
      }
    },
    {
      "cell_type": "code",
      "source": [
        "a= np.array([1,2,3,4,5])"
      ],
      "metadata": {
        "id": "j0iBFdrMCSIK"
      },
      "execution_count": 23,
      "outputs": []
    },
    {
      "cell_type": "code",
      "source": [
        "a"
      ],
      "metadata": {
        "colab": {
          "base_uri": "https://localhost:8080/"
        },
        "id": "bgOTf1L6CbSC",
        "outputId": "27999e6e-60db-4620-d0d3-47ce8df4c7e4"
      },
      "execution_count": 24,
      "outputs": [
        {
          "output_type": "execute_result",
          "data": {
            "text/plain": [
              "array([1, 2, 3, 4, 5])"
            ]
          },
          "metadata": {},
          "execution_count": 24
        }
      ]
    },
    {
      "cell_type": "markdown",
      "source": [
        "### Tipo de dato"
      ],
      "metadata": {
        "id": "kVt95cGSC56k"
      }
    },
    {
      "cell_type": "code",
      "source": [
        "a.dtype"
      ],
      "metadata": {
        "colab": {
          "base_uri": "https://localhost:8080/"
        },
        "id": "wZ_JSigxTSpr",
        "outputId": "b73c51a5-b860-4c76-c84c-41ada10efd86"
      },
      "execution_count": 25,
      "outputs": [
        {
          "output_type": "execute_result",
          "data": {
            "text/plain": [
              "dtype('int64')"
            ]
          },
          "metadata": {},
          "execution_count": 25
        }
      ]
    },
    {
      "cell_type": "markdown",
      "source": [
        "### Se puede definir el tipo de dato que puede almacenar el array con dtype. En este caso de tipo float."
      ],
      "metadata": {
        "id": "imOl33t7DIKJ"
      }
    },
    {
      "cell_type": "code",
      "source": [
        "a=np.array([1,2,3,4,5], dtype=float)"
      ],
      "metadata": {
        "id": "V8JhsI53TWM0"
      },
      "execution_count": 26,
      "outputs": []
    },
    {
      "cell_type": "code",
      "source": [
        "a"
      ],
      "metadata": {
        "colab": {
          "base_uri": "https://localhost:8080/"
        },
        "id": "0-u8YdxiTeaQ",
        "outputId": "4089ba18-8bbf-42a9-d9e4-0c7cb85d0526"
      },
      "execution_count": 27,
      "outputs": [
        {
          "output_type": "execute_result",
          "data": {
            "text/plain": [
              "array([1., 2., 3., 4., 5.])"
            ]
          },
          "metadata": {},
          "execution_count": 27
        }
      ]
    },
    {
      "cell_type": "markdown",
      "source": [
        "### Array de tipo string."
      ],
      "metadata": {
        "id": "7Wgq3b56D22i"
      }
    },
    {
      "cell_type": "code",
      "source": [
        "a=np.array([1,2,3,4,5], dtype=str)"
      ],
      "metadata": {
        "id": "6zu-mxglTixV"
      },
      "execution_count": 28,
      "outputs": []
    },
    {
      "cell_type": "code",
      "source": [
        "a"
      ],
      "metadata": {
        "colab": {
          "base_uri": "https://localhost:8080/"
        },
        "id": "nD4TDKkUTm6k",
        "outputId": "41f77c79-1e5a-4ee8-ca04-e9c9abd0cf23"
      },
      "execution_count": 29,
      "outputs": [
        {
          "output_type": "execute_result",
          "data": {
            "text/plain": [
              "array(['1', '2', '3', '4', '5'], dtype='<U1')"
            ]
          },
          "metadata": {},
          "execution_count": 29
        }
      ]
    },
    {
      "cell_type": "markdown",
      "source": [
        "### Array de tipo boleano."
      ],
      "metadata": {
        "id": "eIqEfazaD-o-"
      }
    },
    {
      "cell_type": "code",
      "source": [
        "a=np.array([1,2,3,4,5], dtype=bool)"
      ],
      "metadata": {
        "id": "Vc1FRorOTr7T"
      },
      "execution_count": 30,
      "outputs": []
    },
    {
      "cell_type": "code",
      "source": [
        "a"
      ],
      "metadata": {
        "colab": {
          "base_uri": "https://localhost:8080/"
        },
        "id": "5WkL5vFMTusy",
        "outputId": "d66e83cc-9276-457b-efdb-0dffb9bfcee5"
      },
      "execution_count": 31,
      "outputs": [
        {
          "output_type": "execute_result",
          "data": {
            "text/plain": [
              "array([ True,  True,  True,  True,  True])"
            ]
          },
          "metadata": {},
          "execution_count": 31
        }
      ]
    },
    {
      "cell_type": "code",
      "source": [
        "a=np.array([0,1,2,3,4,5], dtype=bool)"
      ],
      "metadata": {
        "id": "K2Wa0Z1rTxfY"
      },
      "execution_count": 32,
      "outputs": []
    },
    {
      "cell_type": "code",
      "source": [
        "a"
      ],
      "metadata": {
        "colab": {
          "base_uri": "https://localhost:8080/"
        },
        "id": "qA6oSAKgT3RK",
        "outputId": "b090c6c4-bded-412c-8c4f-53897d9fd4ae"
      },
      "execution_count": 33,
      "outputs": [
        {
          "output_type": "execute_result",
          "data": {
            "text/plain": [
              "array([False,  True,  True,  True,  True,  True])"
            ]
          },
          "metadata": {},
          "execution_count": 33
        }
      ]
    },
    {
      "cell_type": "markdown",
      "source": [
        "### Array de tipo números complejos."
      ],
      "metadata": {
        "id": "JxhrOy2zEL6c"
      }
    },
    {
      "cell_type": "code",
      "source": [
        "a=np.array([0,1,2,3,4,5], dtype=np.complex)"
      ],
      "metadata": {
        "colab": {
          "base_uri": "https://localhost:8080/"
        },
        "id": "Pr9CK6nMT48-",
        "outputId": "e7434ae3-e33c-4124-dbfe-953944934b47"
      },
      "execution_count": 34,
      "outputs": [
        {
          "output_type": "stream",
          "name": "stderr",
          "text": [
            "<ipython-input-34-1c81aab052c4>:1: DeprecationWarning: `np.complex` is a deprecated alias for the builtin `complex`. To silence this warning, use `complex` by itself. Doing this will not modify any behavior and is safe. If you specifically wanted the numpy scalar type, use `np.complex128` here.\n",
            "Deprecated in NumPy 1.20; for more details and guidance: https://numpy.org/devdocs/release/1.20.0-notes.html#deprecations\n",
            "  a=np.array([0,1,2,3,4,5], dtype=np.complex)\n"
          ]
        }
      ]
    },
    {
      "cell_type": "code",
      "source": [
        "a"
      ],
      "metadata": {
        "colab": {
          "base_uri": "https://localhost:8080/"
        },
        "id": "TVnKsvCzURVq",
        "outputId": "a7384dcc-1acc-4874-d285-6051f0941c28"
      },
      "execution_count": 35,
      "outputs": [
        {
          "output_type": "execute_result",
          "data": {
            "text/plain": [
              "array([0.+0.j, 1.+0.j, 2.+0.j, 3.+0.j, 4.+0.j, 5.+0.j])"
            ]
          },
          "metadata": {},
          "execution_count": 35
        }
      ]
    },
    {
      "cell_type": "markdown",
      "source": [
        "## **4: Crear arreglos (arrays)**\n",
        "\n",
        "\n",
        "\n"
      ],
      "metadata": {
        "id": "EmjrDD2Tqy19"
      }
    },
    {
      "cell_type": "code",
      "source": [
        "np.array([True, True, False])"
      ],
      "metadata": {
        "colab": {
          "base_uri": "https://localhost:8080/"
        },
        "id": "npnPrK0hqtUM",
        "outputId": "080dd877-caf5-4500-a04e-257b14d51e99"
      },
      "execution_count": 36,
      "outputs": [
        {
          "output_type": "execute_result",
          "data": {
            "text/plain": [
              "array([ True,  True, False])"
            ]
          },
          "metadata": {},
          "execution_count": 36
        }
      ]
    },
    {
      "cell_type": "markdown",
      "source": [
        "### **Función arrange**"
      ],
      "metadata": {
        "id": "Rx-f0pXKsfnp"
      }
    },
    {
      "cell_type": "code",
      "source": [
        "np.arange(0,100)"
      ],
      "metadata": {
        "colab": {
          "base_uri": "https://localhost:8080/"
        },
        "id": "91AdoT0KrFWK",
        "outputId": "26cc82d5-7579-4030-c8b3-eaed64fb1614"
      },
      "execution_count": 37,
      "outputs": [
        {
          "output_type": "execute_result",
          "data": {
            "text/plain": [
              "array([ 0,  1,  2,  3,  4,  5,  6,  7,  8,  9, 10, 11, 12, 13, 14, 15, 16,\n",
              "       17, 18, 19, 20, 21, 22, 23, 24, 25, 26, 27, 28, 29, 30, 31, 32, 33,\n",
              "       34, 35, 36, 37, 38, 39, 40, 41, 42, 43, 44, 45, 46, 47, 48, 49, 50,\n",
              "       51, 52, 53, 54, 55, 56, 57, 58, 59, 60, 61, 62, 63, 64, 65, 66, 67,\n",
              "       68, 69, 70, 71, 72, 73, 74, 75, 76, 77, 78, 79, 80, 81, 82, 83, 84,\n",
              "       85, 86, 87, 88, 89, 90, 91, 92, 93, 94, 95, 96, 97, 98, 99])"
            ]
          },
          "metadata": {},
          "execution_count": 37
        }
      ]
    },
    {
      "cell_type": "code",
      "source": [
        "np.arange(0,20)"
      ],
      "metadata": {
        "colab": {
          "base_uri": "https://localhost:8080/"
        },
        "id": "h8oVT6xvream",
        "outputId": "0c89e350-695d-438c-906a-7526e6412d58"
      },
      "execution_count": 38,
      "outputs": [
        {
          "output_type": "execute_result",
          "data": {
            "text/plain": [
              "array([ 0,  1,  2,  3,  4,  5,  6,  7,  8,  9, 10, 11, 12, 13, 14, 15, 16,\n",
              "       17, 18, 19])"
            ]
          },
          "metadata": {},
          "execution_count": 38
        }
      ]
    },
    {
      "cell_type": "markdown",
      "source": [
        "### **Arreglo del 0 al 20 con salto de 2 en 2**\n",
        "\n",
        "\n",
        "\n"
      ],
      "metadata": {
        "id": "Wt4xuuKcrqon"
      }
    },
    {
      "cell_type": "code",
      "source": [
        "np.arange(0,20,2)"
      ],
      "metadata": {
        "colab": {
          "base_uri": "https://localhost:8080/"
        },
        "id": "mb36RwNLrkh2",
        "outputId": "c326417a-5f59-434e-ba49-1767958e64ca"
      },
      "execution_count": 39,
      "outputs": [
        {
          "output_type": "execute_result",
          "data": {
            "text/plain": [
              "array([ 0,  2,  4,  6,  8, 10, 12, 14, 16, 18])"
            ]
          },
          "metadata": {},
          "execution_count": 39
        }
      ]
    },
    {
      "cell_type": "markdown",
      "source": [
        "### **Arreglos de ceros**"
      ],
      "metadata": {
        "id": "-1S4m59xr9Ca"
      }
    },
    {
      "cell_type": "code",
      "source": [
        "np.zeros(10)"
      ],
      "metadata": {
        "colab": {
          "base_uri": "https://localhost:8080/"
        },
        "id": "Ul65vBdPr75k",
        "outputId": "a9c09d82-bd41-441a-c880-169d40263760"
      },
      "execution_count": 40,
      "outputs": [
        {
          "output_type": "execute_result",
          "data": {
            "text/plain": [
              "array([0., 0., 0., 0., 0., 0., 0., 0., 0., 0.])"
            ]
          },
          "metadata": {},
          "execution_count": 40
        }
      ]
    },
    {
      "cell_type": "code",
      "source": [
        "np.zeros(10, dtype=int)"
      ],
      "metadata": {
        "colab": {
          "base_uri": "https://localhost:8080/"
        },
        "id": "pVUCK3phtIb0",
        "outputId": "9555507b-023a-49ec-e61d-e707b74ac46f"
      },
      "execution_count": 41,
      "outputs": [
        {
          "output_type": "execute_result",
          "data": {
            "text/plain": [
              "array([0, 0, 0, 0, 0, 0, 0, 0, 0, 0])"
            ]
          },
          "metadata": {},
          "execution_count": 41
        }
      ]
    },
    {
      "cell_type": "code",
      "source": [
        "np.zeros(10, dtype=int).dtype"
      ],
      "metadata": {
        "colab": {
          "base_uri": "https://localhost:8080/"
        },
        "id": "IYArU2qgtSKl",
        "outputId": "4ff4b8f2-706e-4fe9-dba4-e8bc4d3a5f8d"
      },
      "execution_count": 42,
      "outputs": [
        {
          "output_type": "execute_result",
          "data": {
            "text/plain": [
              "dtype('int64')"
            ]
          },
          "metadata": {},
          "execution_count": 42
        }
      ]
    },
    {
      "cell_type": "markdown",
      "source": [
        "### **Arreglos de unos**"
      ],
      "metadata": {
        "id": "pcXCDj7Atr2i"
      }
    },
    {
      "cell_type": "code",
      "source": [
        "np.ones(10, dtype=int)"
      ],
      "metadata": {
        "colab": {
          "base_uri": "https://localhost:8080/"
        },
        "id": "3FX99quxtxOL",
        "outputId": "e13cfa20-9c32-4219-8235-9247a9bd7754"
      },
      "execution_count": 43,
      "outputs": [
        {
          "output_type": "execute_result",
          "data": {
            "text/plain": [
              "array([1, 1, 1, 1, 1, 1, 1, 1, 1, 1])"
            ]
          },
          "metadata": {},
          "execution_count": 43
        }
      ]
    },
    {
      "cell_type": "markdown",
      "source": [
        "### **Arreglos con datos basura**"
      ],
      "metadata": {
        "id": "_XRdnzTyuA9n"
      }
    },
    {
      "cell_type": "code",
      "source": [
        "np.empty(10)"
      ],
      "metadata": {
        "colab": {
          "base_uri": "https://localhost:8080/"
        },
        "id": "fIKKz6njuE0l",
        "outputId": "d9c77d74-ba83-48de-d9dd-0280d42cbb37"
      },
      "execution_count": 44,
      "outputs": [
        {
          "output_type": "execute_result",
          "data": {
            "text/plain": [
              "array([4.83993517e-310, 0.00000000e+000, 0.00000000e+000, 0.00000000e+000,\n",
              "       6.57903575e-310, 1.25740230e-071, 2.10654099e-052, 7.73783904e-091,\n",
              "       2.32013919e-056, 6.57907572e-310])"
            ]
          },
          "metadata": {},
          "execution_count": 44
        }
      ]
    },
    {
      "cell_type": "code",
      "source": [
        "np.empty(10, dtype=int)"
      ],
      "metadata": {
        "colab": {
          "base_uri": "https://localhost:8080/"
        },
        "id": "WiIUaqIUuL3X",
        "outputId": "a5172f68-abef-486a-f782-d129e21c77f3"
      },
      "execution_count": 45,
      "outputs": [
        {
          "output_type": "execute_result",
          "data": {
            "text/plain": [
              "array([     97961378340950,                   0,                   0,\n",
              "                         0,     133161166045184, 3546082660938168372,\n",
              "       3833738906545238061, 3258697620212507443, 3774637052015096628,\n",
              "           133161974969911])"
            ]
          },
          "metadata": {},
          "execution_count": 45
        }
      ]
    },
    {
      "cell_type": "markdown",
      "source": [],
      "metadata": {
        "id": "spc420jXuaRR"
      }
    },
    {
      "cell_type": "markdown",
      "source": [
        "### **Arreglo con datos aleatorios**"
      ],
      "metadata": {
        "id": "6_QeuOqsubZZ"
      }
    },
    {
      "cell_type": "markdown",
      "source": [
        "Función random.randint(valor inicial, valor final, cantidad de números aleatorios)"
      ],
      "metadata": {
        "id": "88dMq23MEmME"
      }
    },
    {
      "cell_type": "code",
      "source": [
        "np.random.randint(0,100,50)"
      ],
      "metadata": {
        "colab": {
          "base_uri": "https://localhost:8080/"
        },
        "id": "GBusMvStufon",
        "outputId": "be5caaab-584b-4156-b8a6-0ce3cce6b5a4"
      },
      "execution_count": 46,
      "outputs": [
        {
          "output_type": "execute_result",
          "data": {
            "text/plain": [
              "array([30, 28, 72, 10, 86, 55, 49,  2, 36,  5, 43, 56, 72, 24, 91, 78, 74,\n",
              "       20, 38, 88,  0, 88, 31, 99, 33, 31, 99, 62, 68, 53, 49, 32, 34, 48,\n",
              "       26, 36, 29, 12,  7, 61, 28, 21, 77,  9, 77,  4, 22, 31, 36, 45])"
            ]
          },
          "metadata": {},
          "execution_count": 46
        }
      ]
    },
    {
      "cell_type": "markdown",
      "source": [
        "## **5: Obtener y actualizar elementos**"
      ],
      "metadata": {
        "id": "XFE6GTpRRog0"
      }
    },
    {
      "cell_type": "code",
      "source": [
        "import numpy as np"
      ],
      "metadata": {
        "id": "SarHY5CLRurq"
      },
      "execution_count": 47,
      "outputs": []
    },
    {
      "cell_type": "code",
      "source": [
        "a=np.random.randint(0,10,10)"
      ],
      "metadata": {
        "id": "pXFDWykpSGSB"
      },
      "execution_count": 48,
      "outputs": []
    },
    {
      "cell_type": "code",
      "source": [
        "a"
      ],
      "metadata": {
        "colab": {
          "base_uri": "https://localhost:8080/"
        },
        "id": "z27h_faFSLq-",
        "outputId": "08e597b7-ac55-44f5-8cfb-b755244b36aa"
      },
      "execution_count": 49,
      "outputs": [
        {
          "output_type": "execute_result",
          "data": {
            "text/plain": [
              "array([9, 5, 0, 4, 3, 3, 1, 8, 0, 0])"
            ]
          },
          "metadata": {},
          "execution_count": 49
        }
      ]
    },
    {
      "cell_type": "markdown",
      "source": [
        "### Obtener un elemento del arreglo"
      ],
      "metadata": {
        "id": "XkU2S3YtSNoN"
      }
    },
    {
      "cell_type": "code",
      "source": [
        "a[0]"
      ],
      "metadata": {
        "colab": {
          "base_uri": "https://localhost:8080/"
        },
        "id": "gImOo-lHSTYV",
        "outputId": "31067152-a0e3-4ae1-9b75-afccc9da035c"
      },
      "execution_count": 50,
      "outputs": [
        {
          "output_type": "execute_result",
          "data": {
            "text/plain": [
              "9"
            ]
          },
          "metadata": {},
          "execution_count": 50
        }
      ]
    },
    {
      "cell_type": "code",
      "source": [
        "a[1]"
      ],
      "metadata": {
        "colab": {
          "base_uri": "https://localhost:8080/"
        },
        "id": "9-grkhjCSczd",
        "outputId": "a77bc17c-d627-42ca-97da-710468def6e8"
      },
      "execution_count": 51,
      "outputs": [
        {
          "output_type": "execute_result",
          "data": {
            "text/plain": [
              "5"
            ]
          },
          "metadata": {},
          "execution_count": 51
        }
      ]
    },
    {
      "cell_type": "code",
      "source": [
        "a[2]"
      ],
      "metadata": {
        "colab": {
          "base_uri": "https://localhost:8080/"
        },
        "id": "ywXxfDn9ShgB",
        "outputId": "71feae12-428c-4cfc-8313-dafa72ee89c8"
      },
      "execution_count": 52,
      "outputs": [
        {
          "output_type": "execute_result",
          "data": {
            "text/plain": [
              "0"
            ]
          },
          "metadata": {},
          "execution_count": 52
        }
      ]
    },
    {
      "cell_type": "markdown",
      "source": [
        "Cuando se colocan números negativos para obtener un elemento, se hace el recorrido del array de derecha a izquierda."
      ],
      "metadata": {
        "id": "BJj_lvvzSlA8"
      }
    },
    {
      "cell_type": "code",
      "source": [
        "a[-1]"
      ],
      "metadata": {
        "colab": {
          "base_uri": "https://localhost:8080/"
        },
        "id": "ciuXAABPSvum",
        "outputId": "4d97b57d-830e-4473-cc1f-04794e619986"
      },
      "execution_count": 53,
      "outputs": [
        {
          "output_type": "execute_result",
          "data": {
            "text/plain": [
              "0"
            ]
          },
          "metadata": {},
          "execution_count": 53
        }
      ]
    },
    {
      "cell_type": "code",
      "source": [
        "a[-2]"
      ],
      "metadata": {
        "colab": {
          "base_uri": "https://localhost:8080/"
        },
        "id": "Ca8p9UWRS6bo",
        "outputId": "759d2efa-7d9b-4ed1-d020-01e5c8ce5c92"
      },
      "execution_count": 54,
      "outputs": [
        {
          "output_type": "execute_result",
          "data": {
            "text/plain": [
              "0"
            ]
          },
          "metadata": {},
          "execution_count": 54
        }
      ]
    },
    {
      "cell_type": "code",
      "source": [
        "a[-3]"
      ],
      "metadata": {
        "colab": {
          "base_uri": "https://localhost:8080/"
        },
        "id": "N3PHOgIpS-Eq",
        "outputId": "4d73eea7-1f5d-4039-f9e6-be5107d7b5df"
      },
      "execution_count": 55,
      "outputs": [
        {
          "output_type": "execute_result",
          "data": {
            "text/plain": [
              "8"
            ]
          },
          "metadata": {},
          "execution_count": 55
        }
      ]
    },
    {
      "cell_type": "markdown",
      "source": [
        "### Reemplazar un el valor de un elemento en un array"
      ],
      "metadata": {
        "id": "gJ-9_BLL-uNP"
      }
    },
    {
      "cell_type": "code",
      "source": [
        "a"
      ],
      "metadata": {
        "colab": {
          "base_uri": "https://localhost:8080/"
        },
        "id": "sC9Vr5mf-zx1",
        "outputId": "ebd513a2-f380-4471-8e89-084cf07754de"
      },
      "execution_count": 56,
      "outputs": [
        {
          "output_type": "execute_result",
          "data": {
            "text/plain": [
              "array([9, 5, 0, 4, 3, 3, 1, 8, 0, 0])"
            ]
          },
          "metadata": {},
          "execution_count": 56
        }
      ]
    },
    {
      "cell_type": "code",
      "source": [
        "a[0]=500"
      ],
      "metadata": {
        "id": "ZmZ1biiu--_N"
      },
      "execution_count": 57,
      "outputs": []
    },
    {
      "cell_type": "code",
      "source": [
        "a"
      ],
      "metadata": {
        "colab": {
          "base_uri": "https://localhost:8080/"
        },
        "id": "uDxqfG53_dOk",
        "outputId": "ebd43e8b-1c4f-4448-df65-134147f6eea8"
      },
      "execution_count": 58,
      "outputs": [
        {
          "output_type": "execute_result",
          "data": {
            "text/plain": [
              "array([500,   5,   0,   4,   3,   3,   1,   8,   0,   0])"
            ]
          },
          "metadata": {},
          "execution_count": 58
        }
      ]
    },
    {
      "cell_type": "markdown",
      "source": [
        "## **6: Subarreglos**"
      ],
      "metadata": {
        "id": "hI1mktFC_vTD"
      }
    },
    {
      "cell_type": "code",
      "source": [
        "a=np.random.randint(0,10,20)\n",
        "a"
      ],
      "metadata": {
        "colab": {
          "base_uri": "https://localhost:8080/"
        },
        "id": "YYhTEXq2_y9z",
        "outputId": "28d8d3c4-691d-4e8f-9db4-ae6b4389ee9c"
      },
      "execution_count": 59,
      "outputs": [
        {
          "output_type": "execute_result",
          "data": {
            "text/plain": [
              "array([9, 5, 7, 6, 6, 7, 6, 6, 6, 2, 4, 9, 0, 9, 9, 9, 6, 4, 5, 6])"
            ]
          },
          "metadata": {},
          "execution_count": 59
        }
      ]
    },
    {
      "cell_type": "code",
      "source": [
        "# a[start:end:saltos]"
      ],
      "metadata": {
        "id": "T65wg0VfAQei"
      },
      "execution_count": 60,
      "outputs": []
    },
    {
      "cell_type": "code",
      "source": [
        "a[0:5]"
      ],
      "metadata": {
        "colab": {
          "base_uri": "https://localhost:8080/"
        },
        "id": "oN0uJs6uAV3i",
        "outputId": "564eef29-0f66-46d0-8916-95ab904c15c1"
      },
      "execution_count": 61,
      "outputs": [
        {
          "output_type": "execute_result",
          "data": {
            "text/plain": [
              "array([9, 5, 7, 6, 6])"
            ]
          },
          "metadata": {},
          "execution_count": 61
        }
      ]
    },
    {
      "cell_type": "code",
      "source": [
        "a[:5]"
      ],
      "metadata": {
        "colab": {
          "base_uri": "https://localhost:8080/"
        },
        "id": "n4HnK_NqAfCN",
        "outputId": "7050a6b1-fa74-47c4-e481-05303a5dba82"
      },
      "execution_count": 62,
      "outputs": [
        {
          "output_type": "execute_result",
          "data": {
            "text/plain": [
              "array([9, 5, 7, 6, 6])"
            ]
          },
          "metadata": {},
          "execution_count": 62
        }
      ]
    },
    {
      "cell_type": "code",
      "source": [
        "a[5:]"
      ],
      "metadata": {
        "colab": {
          "base_uri": "https://localhost:8080/"
        },
        "id": "zytao8YoAz5y",
        "outputId": "819133b2-8f7c-45c1-dc8b-5011e0ebacee"
      },
      "execution_count": 63,
      "outputs": [
        {
          "output_type": "execute_result",
          "data": {
            "text/plain": [
              "array([7, 6, 6, 6, 2, 4, 9, 0, 9, 9, 9, 6, 4, 5, 6])"
            ]
          },
          "metadata": {},
          "execution_count": 63
        }
      ]
    },
    {
      "cell_type": "code",
      "source": [
        "a[5::2]"
      ],
      "metadata": {
        "id": "7F6TLpsNiYnL",
        "outputId": "9f2c716b-13ed-4267-c8d5-43aa147e3f59",
        "colab": {
          "base_uri": "https://localhost:8080/"
        }
      },
      "execution_count": 64,
      "outputs": [
        {
          "output_type": "execute_result",
          "data": {
            "text/plain": [
              "array([7, 6, 2, 9, 9, 9, 4, 6])"
            ]
          },
          "metadata": {},
          "execution_count": 64
        }
      ]
    }
  ],
  "metadata": {
    "colab": {
      "provenance": [],
      "authorship_tag": "ABX9TyM54+qXfiUpOZZ4heMUEfH8",
      "include_colab_link": true
    },
    "kernelspec": {
      "display_name": "Python 3",
      "name": "python3"
    },
    "language_info": {
      "name": "python"
    }
  },
  "nbformat": 4,
  "nbformat_minor": 0
}